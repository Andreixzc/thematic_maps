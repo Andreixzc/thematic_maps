{
 "cells": [
  {
   "cell_type": "code",
   "execution_count": null,
   "metadata": {},
   "outputs": [
    {
     "ename": "AttributeError",
     "evalue": "'Map' object has no attribute 'add_local_tile'",
     "output_type": "error",
     "traceback": [
      "\u001b[1;31m---------------------------------------------------------------------------\u001b[0m",
      "\u001b[1;31mAttributeError\u001b[0m                            Traceback (most recent call last)",
      "Cell \u001b[1;32mIn[1], line 23\u001b[0m\n\u001b[0;32m     20\u001b[0m \u001b[38;5;66;03m# Check if the file exists before trying to add it\u001b[39;00m\n\u001b[0;32m     21\u001b[0m \u001b[38;5;28;01mif\u001b[39;00m os\u001b[38;5;241m.\u001b[39mpath\u001b[38;5;241m.\u001b[39mexists(file_path):\n\u001b[0;32m     22\u001b[0m     \u001b[38;5;66;03m# Add the TIFF as an image overlay\u001b[39;00m\n\u001b[1;32m---> 23\u001b[0m     \u001b[43mMap\u001b[49m\u001b[38;5;241;43m.\u001b[39;49m\u001b[43madd_local_tile\u001b[49m(file_path, vis_params\u001b[38;5;241m=\u001b[39mvis_params, layer_name\u001b[38;5;241m=\u001b[39m\u001b[38;5;124m\"\u001b[39m\u001b[38;5;124mPredicted Chlorophyll Intensity\u001b[39m\u001b[38;5;124m\"\u001b[39m)\n\u001b[0;32m     24\u001b[0m \u001b[38;5;28;01melse\u001b[39;00m:\n\u001b[0;32m     25\u001b[0m     \u001b[38;5;28mprint\u001b[39m(\u001b[38;5;124mf\u001b[39m\u001b[38;5;124m\"\u001b[39m\u001b[38;5;124mFile not found: \u001b[39m\u001b[38;5;132;01m{\u001b[39;00mfile_path\u001b[38;5;132;01m}\u001b[39;00m\u001b[38;5;124m\"\u001b[39m)\n",
      "\u001b[1;31mAttributeError\u001b[0m: 'Map' object has no attribute 'add_local_tile'"
     ]
    }
   ],
   "source": [
    "import geemap\n",
    "import os\n",
    "\n",
    "# Path to the merged GeoTIFF file\n",
    "file_path = 'analises_clorofila/cacu/PredictedChlorophyll_Merged.tif'\n",
    "\n",
    "# Initialize the map and center it on the AOI\n",
    "Map = geemap.Map(center=[-18.5, -45.2], zoom=10)  # Adjust center and zoom as needed\n",
    "Map.add_basemap('SATELLITE')  # Add a satellite basemap for reference\n",
    "\n",
    "# Define visualization parameters for chlorophyll as a heatmap\n",
    "vis_params = {\n",
    "    'palette': [\n",
    "        'blue', 'cyan', 'green', 'yellow', 'orange', 'red',\n",
    "        'darkred', 'purple', 'magenta', 'brown', 'black'\n",
    "    ],\n",
    "    'opacity': 0.7  # Adjust opacity for better visualization on satellite\n",
    "}\n",
    "\n",
    "# Check if the file exists before trying to add it\n",
    "if os.path.exists(file_path):\n",
    "    # Add the TIFF as an image overlay using add_raster\n",
    "    Map.add_raster(\n",
    "        file_path,\n",
    "        colormap=vis_params['palette'],\n",
    "        layer_name=\"Predicted Chlorophyll Intensity\",\n",
    "        opacity=vis_params['opacity']\n",
    "    )\n",
    "else:\n",
    "    print(f\"File not found: {file_path}\")\n",
    "\n",
    "# Add legend for chlorophyll intensity\n",
    "def add_legend(map_obj, title, palette, min_value, max_value):\n",
    "    \"\"\"Add a legend to the map\"\"\"\n",
    "    legend_html = f\"\"\"\n",
    "    <div style='padding: 10px; background-color: white; border-radius: 5px; position: absolute; bottom: 10px; right: 10px;'>\n",
    "        <h4>{title}</h4>\n",
    "        <div style='display: flex; align-items: center;'>\n",
    "            <span>{min_value:.2f}</span>\n",
    "            <div style='flex-grow: 1; height: 20px; background: linear-gradient(to right, {\", \".join(palette)}); margin: 0 10px;'></div>\n",
    "            <span>{max_value:.2f}</span>\n",
    "        </div>\n",
    "    </div>\n",
    "    \"\"\"\n",
    "    map_obj.add_html(legend_html)\n",
    "\n",
    "# Set minimum and maximum chlorophyll values\n",
    "min_value, max_value = 0, 1  # Adjust based on actual chlorophyll values if available\n",
    "\n",
    "add_legend(Map, 'Predicted Chlorophyll', vis_params['palette'], min_value, max_value)\n",
    "\n",
    "# Display the map\n",
    "Map\n"
   ]
  }
 ],
 "metadata": {
  "kernelspec": {
   "display_name": "tempEnv",
   "language": "python",
   "name": "python3"
  },
  "language_info": {
   "codemirror_mode": {
    "name": "ipython",
    "version": 3
   },
   "file_extension": ".py",
   "mimetype": "text/x-python",
   "name": "python",
   "nbconvert_exporter": "python",
   "pygments_lexer": "ipython3",
   "version": "3.12.5"
  }
 },
 "nbformat": 4,
 "nbformat_minor": 2
}
