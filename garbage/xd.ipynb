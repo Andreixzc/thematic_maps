{
 "cells": [
  {
   "cell_type": "code",
   "execution_count": null,
   "metadata": {},
   "outputs": [],
   "source": [
    "import geemap\n",
    "import folium\n",
    "import rasterio\n",
    "from rasterio.plot import show\n",
    "\n",
    "# Path to your merged GeoTIFF file\n",
    "file_path = 'analises_clorofila/cacu/PredictedChlorophyll_Merged.tif'\n",
    "\n",
    "# Set up the geemap interactive map\n",
    "Map = geemap.Map(center=[-18.6, -45.2], zoom=10)  # Adjust center to your AOI's location\n",
    "\n",
    "# Load GeoTIFF data\n",
    "with rasterio.open(file_path) as src:\n",
    "    bounds = src.bounds  # Get the bounds of the GeoTIFF\n",
    "    data = src.read(1)  # Read the first band for chlorophyll intensity\n",
    "\n",
    "    # Set visualization parameters for the heat map\n",
    "    vis_params = {\n",
    "        'colormap': lambda value: (1 - value, 0, value, value),  # Blue to red gradient\n",
    "        'min': data.min(),\n",
    "        'max': data.max()\n",
    "    }\n",
    "\n",
    "# Add the GeoTIFF layer with heat map visualization\n",
    "Map.add_cog_layer(file_path, vis_params=vis_params, name=\"Chlorophyll Intensity\")\n",
    "\n",
    "# Optional: add a legend\n",
    "Map.add_colorbar_branca(\n",
    "    colors=['blue', 'cyan', 'green', 'yellow', 'orange', 'red'],\n",
    "    vmin=data.min(),\n",
    "    vmax=data.max(),\n",
    "    caption=\"Predicted Chlorophyll Intensity\"\n",
    ")\n",
    "\n",
    "# Display the map\n",
    "Map\n"
   ]
  }
 ],
 "metadata": {
  "kernelspec": {
   "display_name": "tempEnv",
   "language": "python",
   "name": "python3"
  },
  "language_info": {
   "name": "python",
   "version": "3.12.5"
  }
 },
 "nbformat": 4,
 "nbformat_minor": 2
}
