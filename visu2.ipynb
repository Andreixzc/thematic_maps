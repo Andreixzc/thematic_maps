{
 "cells": [
  {
   "cell_type": "code",
   "execution_count": 1,
   "metadata": {},
   "outputs": [
    {
     "name": "stdout",
     "output_type": "stream",
     "text": [
      "Chlorophyll concentration range:\n",
      "Minimum: -0.34\n",
      "Maximum: 6.53\n"
     ]
    },
    {
     "data": {
      "application/vnd.jupyter.widget-view+json": {
       "model_id": "c8e570ad4e9e4da192ba651748c58d97",
       "version_major": 2,
       "version_minor": 0
      },
      "text/plain": [
       "Map(center=[-18.58345884758661, -45.1994100000001], controls=(WidgetControl(options=['position', 'transparent_…"
      ]
     },
     "metadata": {},
     "output_type": "display_data"
    }
   ],
   "source": [
    "import ee\n",
    "import geemap\n",
    "import os\n",
    "from IPython.display import display\n",
    "\n",
    "# Initialize Earth Engine\n",
    "try:\n",
    "    ee.Initialize()\n",
    "except Exception as e:\n",
    "    ee.Authenticate()\n",
    "    ee.Initialize()\n",
    "\n",
    "# Define area of interest\n",
    "aoi = ee.Geometry.Polygon([[[-45.559114, -18.954365], [-45.559114, -18.212409], \n",
    "                           [-44.839706, -18.212409], [-44.839706, -18.954365], \n",
    "                           [-45.559114, -18.954365]]])\n",
    "\n",
    "# Read min and max values from stats file\n",
    "stats_file_path = 'chlorophyll_analysis/Tres_Marias_20200101_stats.txt'\n",
    "with open(stats_file_path, 'r') as f:\n",
    "    lines = f.readlines()\n",
    "    min_value = float(lines[2].split(': ')[1])\n",
    "    max_value = float(lines[3].split(': ')[1])\n",
    "\n",
    "print(f\"Chlorophyll concentration range:\")\n",
    "print(f\"Minimum: {min_value:.2f}\")\n",
    "print(f\"Maximum: {max_value:.2f}\")\n",
    "\n",
    "# Create and setup the map\n",
    "Map = geemap.Map()\n",
    "Map.centerObject(aoi, zoom=10)\n",
    "Map.add_basemap('SATELLITE')\n",
    "\n",
    "# Add the GeoTIFF directly to the map\n",
    "geotiff_path = 'chlorophyll_analysis/Tres_Marias_20200101_chlorophyll.tif'\n",
    "\n",
    "# Add raster layer - the -9999 values from the AI processing will be treated as nodata\n",
    "Map.add_raster(\n",
    "    geotiff_path,\n",
    "    palette=[\n",
    "        '#0000ff', '#00ffff', '#00ff00', '#ffff00', '#ff7f00', '#ff0000',\n",
    "        '#8b0000', '#800080', '#ff00ff', '#8b4513', '#000000'\n",
    "    ],\n",
    "    vmin=min_value,\n",
    "    vmax=max_value,\n",
    "    nodata=-9999,  # This will hide all non-water pixels that were marked as -9999\n",
    "    layer_name='Predicted Chlorophyll'\n",
    ")\n",
    "\n",
    "Map.addLayer(\n",
    "    aoi, \n",
    "    {'color': 'white', 'width': 2, 'fillColor': '00000000'}, \n",
    "    'AOI Boundary'\n",
    ")\n",
    "\n",
    "Map.addLayerControl()\n",
    "\n",
    "# Function to add legend\n",
    "def add_legend(map_obj, title, palette, min_value, max_value):\n",
    "    legend_html = f\"\"\"\n",
    "    <div style='padding: 10px; background-color: white; border-radius: 5px;'>\n",
    "        <h4>{title}</h4>\n",
    "        <div style='display: flex; align-items: center;'>\n",
    "            <span>{min_value:.2f}</span>\n",
    "            <div style='flex-grow: 1; height: 20px; background: linear-gradient(to right, {\", \".join(palette)}); margin: 0 10px;'></div>\n",
    "            <span>{max_value:.2f}</span>\n",
    "        </div>\n",
    "    </div>\n",
    "    \"\"\"\n",
    "    map_obj.add_html(legend_html)\n",
    "\n",
    "# Add legend\n",
    "add_legend(\n",
    "    Map, \n",
    "    'Predicted Chlorophyll',\n",
    "    [\n",
    "        '#0000ff', '#00ffff', '#00ff00', '#ffff00', '#ff7f00', '#ff0000',\n",
    "        '#8b0000', '#800080', '#ff00ff', '#8b4513', '#000000'\n",
    "    ],\n",
    "    min_value,\n",
    "    max_value\n",
    ")\n",
    "\n",
    "# Display the map\n",
    "display(Map)"
   ]
  }
 ],
 "metadata": {
  "kernelspec": {
   "display_name": "tempEnv",
   "language": "python",
   "name": "python3"
  },
  "language_info": {
   "codemirror_mode": {
    "name": "ipython",
    "version": 3
   },
   "file_extension": ".py",
   "mimetype": "text/x-python",
   "name": "python",
   "nbconvert_exporter": "python",
   "pygments_lexer": "ipython3",
   "version": "3.12.5"
  }
 },
 "nbformat": 4,
 "nbformat_minor": 2
}
